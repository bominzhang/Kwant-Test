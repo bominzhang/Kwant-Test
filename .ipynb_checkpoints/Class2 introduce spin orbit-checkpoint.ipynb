{
 "cells": [
  {
   "cell_type": "code",
   "execution_count": 6,
   "metadata": {},
   "outputs": [],
   "source": [
    "import kwant\n",
    "from matplotlib import pyplot"
   ]
  },
  {
   "cell_type": "markdown",
   "metadata": {},
   "source": [
    "simpler way to construct such tight bonding system"
   ]
  },
  {
   "cell_type": "markdown",
   "metadata": {},
   "source": [
    "$H = \\frac{-\\hbar^2}{2m}(\\partial_{x}^2+\\partial_{y}^2)+V(y)$ with   $t = \\frac{\\hbar^2}{2ma^2}$"
   ]
  },
  {
   "cell_type": "code",
   "execution_count": 2,
   "metadata": {},
   "outputs": [],
   "source": [
    "# start with an empty tight-binding system and a single square lattice\n",
    "def make_system(a=1, t=1.0, W=10, L=30):\n",
    "    \n",
    "    # start with square lattice\n",
    "    lat = kwant.lattice.square(a)\n",
    "    syst = kwant.Builder()\n",
    "    \n",
    "    # set all lattice in the system with 4t potential, hopping energy to any neighbors as -t\n",
    "    syst[(lat(x, y) for x in range(L) for y in range (W))] = 4 * t\n",
    "    syst[lat.neighbors()] = - t\n",
    "    \n",
    "    # Build the lead related to potential\n",
    "    lead = kwant.Builder(kwant.TranslationalSymmetry((-a, 0)))\n",
    "    lead[(lat(0, j) for j in range(W))] = 4 * t\n",
    "    lead[lat.neighbors()] = -t\n",
    "    \n",
    "    #attach lead on the system\n",
    "    syst.attach_lead(lead)\n",
    "    syst.attach_lead(lead.reversed())\n",
    "    \n",
    "    return syst"
   ]
  },
  {
   "cell_type": "code",
   "execution_count": 3,
   "metadata": {},
   "outputs": [],
   "source": [
    "def plot_conductance(syst, energies):\n",
    "    data = []\n",
    "    for energy in energies:\n",
    "        smatrix = kwant.smatrix(syst, energy)\n",
    "        data.append(smatrix.transmission(1, 0))\n",
    "        \n",
    "    pyplot.figure()\n",
    "    pyplot.plot(energies, data)\n",
    "    pyplot.xlabel(\"energy [t]\")\n",
    "    pyplot.ylabel(\"conductance [e^2/h]\")\n",
    "    pyplot.show()"
   ]
  },
  {
   "cell_type": "code",
   "execution_count": 49,
   "metadata": {},
   "outputs": [],
   "source": [
    "def main():\n",
    "    syst = make_system()\n",
    "    kwant.plot(syst)\n",
    "    \n",
    "    syst = syst.finalized()\n",
    "    \n",
    "    plot_conductance(syst, energies = [0.01 * i for i in range (100)])"
   ]
  },
  {
   "cell_type": "code",
   "execution_count": 50,
   "metadata": {},
   "outputs": [
    {
     "data": {
      "image/png": "[encoded data removed]",
      "text/plain": [
       "<Figure size 432x288 with 1 Axes>"
      ]
     },
     "metadata": {
      "needs_background": "light"
     },
     "output_type": "display_data"
    },
    {
     "data": {
      "image/png": "[encoded data removed]",
      "text/plain": [
       "<Figure size 432x288 with 1 Axes>"
      ]
     },
     "metadata": {
      "needs_background": "light"
     },
     "output_type": "display_data"
    }
   ],
   "source": [
    "if __name__ == '__main__':\n",
    "    main()"
   ]
  },
  {
   "cell_type": "markdown",
   "metadata": {},
   "source": [
    "considering spin-orbit interaction"
   ]
  },
  {
   "cell_type": "markdown",
   "metadata": {},
   "source": [
    "$H = \\frac{-\\hbar^2}{2m}(\\partial_{x}^2+\\partial_{y}^2)-i\\alpha(\\partial_{x}\\sigma_{y}-\\partial{y}\\sigma_{x})+E_{z} \\sigma_{z}+V(y)$"
   ]
  },
  {
   "cell_type": "code",
   "execution_count": 23,
   "metadata": {},
   "outputs": [],
   "source": [
    "import tinyarray"
   ]
  },
  {
   "cell_type": "code",
   "execution_count": 24,
   "metadata": {},
   "outputs": [],
   "source": [
    "sigma_0 = tinyarray.array([[1, 0], [0, 1]])\n",
    "sigma_x = tinyarray.array([[0, 1], [1, 0]])\n",
    "sigma_y = tinyarray.array([[0, -1j], [1j, 0]])\n",
    "sigma_z = tinyarray.array([[1, 0], [0, -1]])"
   ]
  },
  {
   "cell_type": "code",
   "execution_count": 70,
   "metadata": {},
   "outputs": [],
   "source": [
    "def make_spinorbit_system(a=1, t=1.0, W=10, L=30):\n",
    "    \n",
    "    # start with square lattice\n",
    "    lat = kwant.lattice.square(a)\n",
    "    syst = kwant.Builder()\n",
    "    \n",
    "    # Build the syst with hopping in x and y direction considering both Zeeman energy and Spin-orbit\n",
    "    syst[(lat(x, y) for x in range(L) for y in range(W))] = 4 * t * sigma_0 + e_z * sigma_z \n",
    "    syst[kwant.builder.HoppingKind((1, 0), lat, lat)] = -t * sigma_0 + 1j * alpha * sigma_y / 2\n",
    "    syst[kwant.builder.HoppingKind((0, 1), lat, lat)] = -t * sigma_0 - 1j * alpha * sigma_x / 2\n",
    "    \n",
    "    # Build the lead related to potential\n",
    "    lead = kwant.Builder(kwant.TranslationalSymmetry((-a, 0)))\n",
    "    lead[(lat(0, j) for j in range(W))] = 4 * t * sigma_0 + e_z * sigma_z \n",
    "    lead[kwant.builder.HoppingKind((1, 0), lat, lat)] = -t * sigma_0 + 1j * alpha * sigma_y / 2  \n",
    "    lead[kwant.builder.HoppingKind((0, 1), lat, lat)] = -t * sigma_0 - 1j * alpha * sigma_x / 2\n",
    "    \n",
    "    #attach lead on the system\n",
    "    syst.attach_lead(lead)\n",
    "    syst.attach_lead(lead.reversed())\n",
    "    \n",
    "    return syst"
   ]
  },
  {
   "cell_type": "code",
   "execution_count": 86,
   "metadata": {},
   "outputs": [],
   "source": [
    "def plot_conductance(syst, energies):\n",
    "    data = []\n",
    "    for energy in energies:\n",
    "        smatrix = kwant.smatrix(syst, energy)\n",
    "        data.append(smatrix.transmission(1, 0))\n",
    "        \n",
    "    pyplot.figure()\n",
    "    pyplot.plot(energies, data)\n",
    "    pyplot.xlabel(\"energy [t]\")\n",
    "    pyplot.ylabel(\"conductance [e^2/h]\")\n",
    "    pyplot.show()\n",
    "\n",
    "def main():\n",
    "    syst = make_spinorbit_system()\n",
    "    kwant.plot(syst)\n",
    "    \n",
    "    syst = syst.finalized()\n",
    "    \n",
    "    plot_conductance(syst, energies = [-0.5+(0.01 * i) for i in range (150)])"
   ]
  },
  {
   "cell_type": "markdown",
   "metadata": {},
   "source": [
    "when set Zeeman energy and spin-orbit alpha equal to 0"
   ]
  },
  {
   "cell_type": "code",
   "execution_count": 94,
   "metadata": {},
   "outputs": [],
   "source": [
    "e_z = 0.05\n",
    "alpha = 0.6"
   ]
  },
  {
   "cell_type": "code",
   "execution_count": 95,
   "metadata": {
    "scrolled": true
   },
   "outputs": [
    {
     "data": {
      "image/png": "[encoded data removed]",
      "text/plain": [
       "<Figure size 432x288 with 1 Axes>"
      ]
     },
     "metadata": {
      "needs_background": "light"
     },
     "output_type": "display_data"
    },
    {
     "data": {
      "image/png": "[encoded data removed]",
      "text/plain": [
       "<Figure size 432x288 with 1 Axes>"
      ]
     },
     "metadata": {
      "needs_background": "light"
     },
     "output_type": "display_data"
    }
   ],
   "source": [
    "if __name__ == '__main__':\n",
    "    main()"
   ]
  },
  {
   "cell_type": "code",
   "execution_count": null,
   "metadata": {},
   "outputs": [],
   "source": []
  }
 ],
 "metadata": {
  "kernelspec": {
   "display_name": "Python 3",
   "language": "python",
   "name": "python3"
  },
  "language_info": {
   "codemirror_mode": {
    "name": "ipython",
    "version": 3
   },
   "file_extension": ".py",
   "mimetype": "text/x-python",
   "name": "python",
   "nbconvert_exporter": "python",
   "pygments_lexer": "ipython3",
   "version": "3.6.10"
  }
 },
 "nbformat": 4,
 "nbformat_minor": 4
}
