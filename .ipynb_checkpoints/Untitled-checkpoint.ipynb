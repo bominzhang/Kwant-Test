{
 "cells": [
  {
   "cell_type": "code",
   "execution_count": 2,
   "metadata": {},
   "outputs": [],
   "source": [
    "import kwant\n",
    "from matplotlib import pyplot"
   ]
  },
  {
   "cell_type": "code",
   "execution_count": 10,
   "metadata": {},
   "outputs": [],
   "source": [
    "# start with an empty tight-binding system and a single square lattice\n",
    "def make_system(a=1, t=1.0, W=10, L=30):\n",
    "    \n",
    "    # start with square lattice\n",
    "    lat = kwant.lattice.square(a)\n",
    "    syst = kwant.Builder()\n",
    "    \n",
    "    # set all lattice in the system with 4t potential, hopping energy to any neighbors as -t\n",
    "    syst[(lat(x, y) for x in range(L) for y in range (W))] = 4 * t\n",
    "    syst[lat.neighbors()] = - t\n",
    "    \n",
    "    # Build the potential related to potential\n",
    "    lead = kwant.Builder(kwant.TranslationalSymmetry((-a, 0)))\n",
    "    lead[(lat(0, j) for j in range(W))] = 4 * t\n",
    "    lead[lat.neighbors()] = -t\n",
    "    \n",
    "    #attach lead on the system\n",
    "    syst.attach_lead(lead)\n",
    "    syst.attach_lead(lead.reversed())\n",
    "    \n",
    "    return syst"
   ]
  },
  {
   "cell_type": "code",
   "execution_count": 11,
   "metadata": {},
   "outputs": [],
   "source": [
    "def plot_conductance(syst, energies):\n",
    "    data = []\n",
    "    for energy in energies:\n",
    "        smatrix = kwant.smatrix(syst, energy)\n",
    "        data.append(smatrix.transmission(1, 0))\n",
    "        \n",
    "    pyplot.figure()\n",
    "    pyplot.plot(energies, data)\n",
    "    pyplot.xlabel(\"energy [t]\")\n",
    "    pyplot.ylabel(\"conductance [e^2/h]\")\n",
    "    pyplot.show()"
   ]
  },
  {
   "cell_type": "code",
   "execution_count": 12,
   "metadata": {},
   "outputs": [],
   "source": [
    "def main():\n",
    "    syst = make_system()\n",
    "    kwant.plot(syst)\n",
    "    \n",
    "    syst = syst.finalized()\n",
    "    \n",
    "    plot_conductance(syst, energies = [0.01 * i for i in range (100)])"
   ]
  },
  {
   "cell_type": "code",
   "execution_count": 17,
   "metadata": {},
   "outputs": [
    {
     "data": {
      "image/png": "[encoded data removed]",
      "text/plain": [
       "<Figure size 432x288 with 1 Axes>"
      ]
     },
     "metadata": {
      "needs_background": "light"
     },
     "output_type": "display_data"
    },
    {
     "data": {
      "image/png": "[encoded data removed]",
      "text/plain": [
       "<Figure size 432x288 with 1 Axes>"
      ]
     },
     "metadata": {
      "needs_background": "light"
     },
     "output_type": "display_data"
    }
   ],
   "source": [
    "if __name__ == '__main__':\n",
    "    main()"
   ]
  },
  {
   "cell_type": "code",
   "execution_count": null,
   "metadata": {},
   "outputs": [],
   "source": []
  }
 ],
 "metadata": {
  "kernelspec": {
   "display_name": "Python 3",
   "language": "python",
   "name": "python3"
  },
  "language_info": {
   "codemirror_mode": {
    "name": "ipython",
    "version": 3
   },
   "file_extension": ".py",
   "mimetype": "text/x-python",
   "name": "python",
   "nbconvert_exporter": "python",
   "pygments_lexer": "ipython3",
   "version": "3.6.10"
  }
 },
 "nbformat": 4,
 "nbformat_minor": 4
}
