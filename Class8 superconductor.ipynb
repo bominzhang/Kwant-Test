{
 "cells": [
  {
   "cell_type": "code",
   "execution_count": 51,
   "metadata": {},
   "outputs": [],
   "source": [
    "import kwant\n",
    "\n",
    "import tinyarray\n",
    "import numpy as np\n",
    "\n",
    "# For plotting\n",
    "from matplotlib import pyplot\n",
    "from mpl_toolkits.mplot3d import Axes3D"
   ]
  },
  {
   "cell_type": "code",
   "execution_count": 2,
   "metadata": {},
   "outputs": [],
   "source": [
    "tau_x = tinyarray.array([[0, 1], [1, 0]])\n",
    "tau_y = tinyarray.array([[0, -1j], [1j, 0]])\n",
    "tau_z = tinyarray.array([[1, 0], [0, -1]])"
   ]
  },
  {
   "cell_type": "code",
   "execution_count": 46,
   "metadata": {},
   "outputs": [],
   "source": [
    "def make_system(a=1, W=10, L=10, barrier=1.5, barrierpos=(3, 4), mu=0.4, Delta=0.1, Deltapos=4, t=1.0):\n",
    "    # Start with an empty tight-binding system. On each site, there\n",
    "    # are now electron and hole orbitals, so we must specify the\n",
    "    # number of orbitals per site. The orbital structure is the same\n",
    "    # as in the Hamiltonian.\n",
    "    lat = kwant.lattice.square(norbs=2)\n",
    "    syst = kwant.Builder()\n",
    "    \n",
    "    #### Define the scattering region. ####\n",
    "    # The superconducting order parameter couples electron and hole orbitals\n",
    "    # on each site, and hence enters as an onsite potential.\n",
    "    # The pairing is only included beyond the point 'Deltapos' in the scattering region.\n",
    "    syst[(lat(x, y) for x in range(Deltapos) for y in range(W))] = (4 * t - mu) * tau_z\n",
    "    syst[(lat(x, y) for x in range(Deltapos, L) for y in range(W))] = (4 * t - mu) * tau_z + Delta * tau_x\n",
    "    \n",
    "    # The tunnel barrier\n",
    "    syst[(lat(x, y) for x in range(barrierpos[0], barrierpos[1]) for y in range(W))] = (4 * t + barrier-mu) * tau_z\n",
    "    \n",
    "    # Hoppings\n",
    "    syst[lat.neighbors()] = -t * tau_z\n",
    "    \n",
    "    #### Define the leads. ####\n",
    "    # Left lead - normal, so the order parameter is zero.\n",
    "    sym_left = kwant.TranslationalSymmetry((-a, 0))\n",
    "\n",
    "    # Specify the conservation law used to treat electrons and holes separately.\n",
    "    # We only do this in the left lead, where the pairing is zero.\n",
    "    lead0 = kwant.Builder(sym_left, conservation_law = -tau_z, particle_hole = tau_y)\n",
    "    lead0[(lat(0, j) for j in range(W))] = (4 * t - mu) * tau_z\n",
    "    lead0[lat.neighbors()] = -t * tau_z\n",
    "    \n",
    "    # Right lead - superconducting, so the order parameter is included.\n",
    "    sym_right = kwant.TranslationalSymmetry((a, 0))\n",
    "    lead1 = kwant.Builder(sym_right)\n",
    "    lead1[(lat(0, j) for j in range(W))] = (4 * t - mu) * tau_z + Delta * tau_x\n",
    "    lead1[lat.neighbors()] = -t * tau_z\n",
    "    \n",
    "    #### Attach the lead and return the system. ####\n",
    "    syst.attach_lead(lead0)\n",
    "    syst.attach_lead(lead1)\n",
    "    \n",
    "    return syst"
   ]
  },
  {
   "cell_type": "code",
   "execution_count": 67,
   "metadata": {},
   "outputs": [],
   "source": [
    "def plot_conductance(syst, energies):\n",
    "    # Compute conductance\n",
    "    data = []\n",
    "    for energy in energies:\n",
    "        smatrix = kwant.smatrix(syst, energy)\n",
    "        # Conductance is N - R_ee + R_he\n",
    "        data.append(smatrix.submatrix((0, 0), (0, 0)).shape[0] - \n",
    "                    smatrix.transmission((0, 0), (0, 0)) +\n",
    "                    smatrix.transmission((0, 1), (0, 0)))\n",
    "    \n",
    "    pyplot.figure()\n",
    "    pyplot.plot(energies, data)\n",
    "    pyplot.xlabel(\"energy [t]\")\n",
    "    pyplot.ylabel(\"conductance [e^2/h]\")\n",
    "    pyplot.show()"
   ]
  },
  {
   "cell_type": "code",
   "execution_count": 68,
   "metadata": {},
   "outputs": [],
   "source": [
    "def check_PHS(syst):\n",
    "    # Scattering matrix\n",
    "    s = kwant.smatrix(syst, energy=0)\n",
    "    # Electron to electron block\n",
    "    s_ee = s.submatrix((0,0), (0,0))\n",
    "    # Hole to hole block\n",
    "    s_hh = s.submatrix((0,1), (0,1))\n",
    "    print('Electron to electron block \\n', 's_ee: \\n', np.round(s_ee, 3))\n",
    "    print('Hole to hole block \\n', 's_hh: \\n', np.round(s_hh[::-1, ::-1], 3))\n",
    "    print('Energy Conservation \\n','s_ee - s_hh^*: \\n',\n",
    "          np.round(s_ee - s_hh[::-1, ::-1].conj(), 3), '\\n')\n",
    "    # Electron to hole block\n",
    "    s_he = s.submatrix((0,1), (0,0))\n",
    "    # Hole to electron block\n",
    "    s_eh = s.submatrix((0,0), (0,1))\n",
    "    print('Electron to hole block \\n', 's_he: \\n', np.round(s_he, 3))\n",
    "    print('Hole to electron block \\n', 's_eh: \\n', np.round(s_eh[::-1, ::-1], 3))\n",
    "    print('Energy Conservation \\n','s_he + s_eh^*: \\n', np.round(s_he + s_eh[::-1, ::-1].conj(), 3))"
   ]
  },
  {
   "cell_type": "code",
   "execution_count": 69,
   "metadata": {},
   "outputs": [],
   "source": [
    "def main():\n",
    "    syst = make_system(W=10, mu = 0.1).finalized()\n",
    "    \n",
    "#    kwant.plot(syst)\n",
    "    \n",
    "#    syst = syst.finalized()\n",
    "    \n",
    "#    check_PHS(syst)\n",
    "    \n",
    "    plot_conductance(syst, energies = [0.002 * i for i in range(-10, 100)])\n",
    "    \n",
    "#    syst = make_system(W=10, mu = 0.5).finalized()\n",
    "    \n",
    "#    plot_conductance(syst, energies = [0.002 * i for i in range(-10, 100)])\n",
    "    \n",
    "#    syst = make_system(W=10, mu = 0.9).finalized()\n",
    "    \n",
    "#    plot_conductance(syst, energies = [0.002 * i for i in range(-10, 100)])"
   ]
  },
  {
   "cell_type": "code",
   "execution_count": 70,
   "metadata": {},
   "outputs": [
    {
     "data": {
      "image/png": "[encoded data removed]",
      "text/plain": [
       "<Figure size 432x288 with 1 Axes>"
      ]
     },
     "metadata": {
      "needs_background": "light"
     },
     "output_type": "display_data"
    }
   ],
   "source": [
    "main()"
   ]
  },
  {
   "cell_type": "code",
   "execution_count": null,
   "metadata": {},
   "outputs": [],
   "source": []
  },
  {
   "cell_type": "code",
   "execution_count": null,
   "metadata": {},
   "outputs": [],
   "source": []
  }
 ],
 "metadata": {
  "kernelspec": {
   "display_name": "Python 3",
   "language": "python",
   "name": "python3"
  },
  "language_info": {
   "codemirror_mode": {
    "name": "ipython",
    "version": 3
   },
   "file_extension": ".py",
   "mimetype": "text/x-python",
   "name": "python",
   "nbconvert_exporter": "python",
   "pygments_lexer": "ipython3",
   "version": "3.6.10"
  }
 },
 "nbformat": 4,
 "nbformat_minor": 4
}
